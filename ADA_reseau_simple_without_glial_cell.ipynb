{
  "cells": [
    {
      "cell_type": "code",
      "source": [
        "! pip install brian2"
      ],
      "metadata": {
        "id": "1LlOciKiBiKl",
        "outputId": "1b4b42da-8039-4bd9-a58f-d0b95c56b386",
        "colab": {
          "base_uri": "https://localhost:8080/"
        }
      },
      "execution_count": 59,
      "outputs": [
        {
          "output_type": "stream",
          "name": "stdout",
          "text": [
            "Looking in indexes: https://pypi.org/simple, https://us-python.pkg.dev/colab-wheels/public/simple/\n",
            "Requirement already satisfied: brian2 in /usr/local/lib/python3.8/dist-packages (2.5.1)\n",
            "Requirement already satisfied: cython>=0.29 in /usr/local/lib/python3.8/dist-packages (from brian2) (0.29.33)\n",
            "Requirement already satisfied: jinja2>=2.7 in /usr/local/lib/python3.8/dist-packages (from brian2) (2.11.3)\n",
            "Requirement already satisfied: numpy>=1.17 in /usr/local/lib/python3.8/dist-packages (from brian2) (1.22.4)\n",
            "Requirement already satisfied: pyparsing in /usr/local/lib/python3.8/dist-packages (from brian2) (3.0.9)\n",
            "Requirement already satisfied: sympy>=1.2 in /usr/local/lib/python3.8/dist-packages (from brian2) (1.7.1)\n",
            "Requirement already satisfied: setuptools>=24.2 in /usr/local/lib/python3.8/dist-packages (from brian2) (57.4.0)\n",
            "Requirement already satisfied: MarkupSafe>=0.23 in /usr/local/lib/python3.8/dist-packages (from jinja2>=2.7->brian2) (2.0.1)\n",
            "Requirement already satisfied: mpmath>=0.19 in /usr/local/lib/python3.8/dist-packages (from sympy>=1.2->brian2) (1.2.1)\n"
          ]
        }
      ]
    },
    {
      "cell_type": "code",
      "execution_count": 60,
      "metadata": {
        "id": "92GJk0_zBfoP"
      },
      "outputs": [],
      "source": [
        "from brian2 import *\n",
        "%matplotlib inline\n",
        "from time import time\n",
        "from scipy.signal import find_peaks\n",
        "from ipywidgets import interact_manual, FloatSlider, interact"
      ]
    },
    {
      "cell_type": "code",
      "execution_count": 61,
      "metadata": {
        "id": "DWpzDMVdBfoS",
        "outputId": "2ad641e8-09b6-4e1f-8523-a5350603833d",
        "colab": {
          "base_uri": "https://localhost:8080/"
        }
      },
      "outputs": [
        {
          "output_type": "stream",
          "name": "stdout",
          "text": [
            "z0 =  0.1211605190692803\n"
          ]
        }
      ],
      "source": [
        "\n",
        "#Constants\n",
        "i_const = 160*pA\n",
        "C = 100*pF; gL = 12*nS; EL = -60*mV; VT = -50*mV; \n",
        "DeltaT = 2*mV; tauw = 130*ms; a = -11*nS;\n",
        "tau_s = 1*ms; ks= 0.3*nA; ss = 125; ds = 3; hs = -0.045; \n",
        "I0 = 1*amp; V0 = 1*volt;\n",
        "Dn = 0.8; tau_n = 25*Hz; \n",
        "epsilon_c = 0.04; tau_c = 10*ms; \n",
        "C1 = 0.13; C2 = 0.9; C3 = 0.004; C4 = 2/epsilon_c\n",
        "tausm = 100*ms; ssm = 100; hsm = 0.45; dsm = 3;\n",
        "tauGm = 5*tausm; sgm = ssm; hgm = 0.5; dgm = 3;\n",
        "\n",
        "z0 = 2*ds/(1+2*ds+exp(-2*ss*(-0.015)))\n",
        "print('z0 = ',z0)\n",
        "\n",
        "# presynaptic neuron A/Abis\n",
        "eqs1 = '''\n",
        "        I = i_const*int(t > 50*ms)*int(t < 1000*ms) : amp\n",
        "        dv1/dt = (gL*(EL-v1)+gL*DeltaT*exp((v1-VT)/DeltaT) - w1 + I + (I0-gamma)*gm)/C: volt\n",
        "        dw1/dt=(a*(v1-EL)-w1)/tauw : amp\n",
        "        gm : 1 (linked)\n",
        "        \n",
        "       '''\n",
        "eqs1bis = '''\n",
        "        I = i_const*int(t > 50*ms)*int(t < 2000*ms) : amp\n",
        "        dv1/dt = (gL*(EL-v1)+gL*DeltaT*exp((v1-VT)/DeltaT) - w1 + I + (I0-gamma)*gm)/C: volt\n",
        "        dw1/dt=(a*(v1-EL)-w1)/tauw : amp\n",
        "        gm : 1 (linked)\n",
        "        \n",
        "       '''\n",
        "# postsynaptic neuron B\n",
        "eqs2 = '''dv2/dt = (gL*(EL-v2)+gL*DeltaT*exp((v2-VT)/DeltaT) - w2 + I_syn + I_glion)/C : volt\n",
        "          dw2/dt=(a*(v2-EL)-w2)/tauw : amp\n",
        "          dz/dt = (1/tau_s)*((1+tanh(ss*((v_inp/V0)-hs)))*(1 - z) - z/ds) : 1\n",
        "          I_syn = (ks - delta*Gm)*(z-z0) : amp\n",
        "          I_glion = gamma*Gm : amp\n",
        "          Gm = 0 : 1\n",
        "          v_inp : volt (linked)\n",
        "      '''\n",
        "# downstream neuron C\n",
        "eqs3 = '''dv3/dt = (gL*(EL-v3)+gL*DeltaT*exp((v3-VT)/DeltaT) - w3 + I_syn)/C : volt\n",
        "          dw3/dt=(a*(v3-EL)-w3)/tauw : amp\n",
        "          I_syn : amp (linked)\n",
        "          v_inp : volt (linked)\n",
        "      '''"
      ]
    },
    {
      "cell_type": "code",
      "execution_count": 62,
      "metadata": {
        "id": "jt_KmTewBfoU"
      },
      "outputs": [],
      "source": [
        "run_time = 10000*ms"
      ]
    },
    {
      "cell_type": "code",
      "execution_count": 63,
      "metadata": {
        "id": "F4j_IFX4BfoV"
      },
      "outputs": [],
      "source": [
        "#Définition de la synapse  \n",
        "def synapse_plot(r,Alpha,beta,Gamma,delta):\n",
        "    #Initialization\n",
        "    defaultclock.dt = 0.01*ms\n",
        "    alpha = Alpha*amp**(-1); \n",
        "    gamma = Gamma*nA;\n",
        "    delta = delta*nA\n",
        "    #PRE-SYNAPTIC NEURO\n",
        "    neuronA = NeuronGroup(1, eqs1, threshold='v1 > -30*mV', reset='v1=-70*mV; w1 += 30*pA', method = \"euler\")\n",
        "    neuronAbis = NeuronGroup(1, eqs1bis, threshold='v1 > -30*mV', reset='v1=-70*mV; w1 += 30*pA', method = \"euler\")\n",
        "    #initial values\n",
        "    neuronA.v1 = EL\n",
        "    neuronA.w1 = 0*nA\n",
        "    neuronAbis.v1 = EL\n",
        "    neuronAbis.w1 = 0*nA\n",
        "\n",
        "    \n",
        "    #POST-SYNAPTIC NEURON\n",
        "    neuronB = NeuronGroup(1, eqs2, threshold='v2 > -30*mV', reset='v2=-70*mV; w2 += 30*pA', method = \"euler\")\n",
        "    neuronC = NeuronGroup(1, eqs3, threshold='v3 > -30*mV', reset='v3=-70*mV; w3 += 30*pA', method = \"euler\")\n",
        "    #initial values\n",
        "    neuronB.v2 = EL\n",
        "    neuronB.w2 = 0*nA\n",
        "    neuronB.z = z0\n",
        "    \n",
        "    neuronC.v3 = EL\n",
        "    neuronC.w3 = 0*nA\n",
        "    \n",
        "    #LINKED VALUES\n",
        "    neuronA.gm = linked_var(neuronB, 'Gm')\n",
        "    neuronAbis.gm = linked_var(neuronB, 'Gm')\n",
        "    neuronB.v_inp = linked_var(neuronA, 'v1')\n",
        "    neuronC.v_inp = linked_var(neuronB, 'v2')\n",
        "    neuronC.I_syn = linked_var(neuronB, 'I_syn')\n",
        "    \n",
        "    #MONITORS\n",
        "    V1 = StateMonitor(neuronA, 'v1', record=0)\n",
        "    I1 = StateMonitor(neuronA, 'I', record=0)\n",
        "\n",
        "    V1bis = StateMonitor(neuronAbis, 'v1', record=0)\n",
        "    \n",
        "    Z = StateMonitor(neuronB, 'z', record=0)\n",
        "    #Cal = StateMonitor(neuronB, 'c', record=0)\n",
        "    #CE = StateMonitor(neuronB, 'ce', record=0)\n",
        "    #SM = StateMonitor(neuronB, 'Sm', record=0)\n",
        "    GM = StateMonitor(neuronB, 'Gm', record=0)\n",
        "    IG = StateMonitor(neuronB, 'I_glion', record=0)\n",
        "    \n",
        "    V2 = StateMonitor(neuronB, 'v2', record=0)\n",
        "    I2 = StateMonitor(neuronB, 'I_syn', record=0)\n",
        "    \n",
        "    V3 = StateMonitor(neuronC, 'v3', record=0)\n",
        "\n",
        "\n",
        "    #Synapse\n",
        "    syn1 = Synapses(neuronA, neuronB)\n",
        "    syn1.connect(i=0, j=0)\n",
        "    syn2 = Synapses(neuronAbis, neuronB)\n",
        "    syn2.connect(i=0, j=0)\n",
        "    syn3 = Synapses(neuronB, neuronC)\n",
        "    syn3.connect(i=0, j=0)\n",
        "    run(run_time)\n",
        "    \n",
        "    #PLOT\n",
        "    plot(V1bis.t/ms, V1bis.v1[0], label='Neuron Abis')\n",
        "    plot(V1.t/ms, V1.v1[0], label='Neuron A')\n",
        "    plot(V2.t/ms, V2.v2[0], label='Neuron B')\n",
        "    plt.axvline(x = 500, color = 'k', label = 'axvline - full height') #line to show the end of I1\n",
        "    plot(V3.t/ms, V3.v3[0], label='Neuron C')\n",
        "    xlabel('Time (ms)')\n",
        "    ylabel('v (V)')\n",
        "    legend();\n",
        " #  plt.savefig(str(i)+'V(t).png')\n",
        "    show()\n",
        "    \n",
        " #  plot(Cal.t/ms, Cal.c[0], label='c',color='m')\n",
        " #  plot(CE.t/ms, CE.ce[0], label='ce')\n",
        " #  plot(SM.t/ms, SM.Sm[0], label='Sm')\n",
        "    plot(GM.t/ms, GM.Gm[0], label='Gm')\n",
        "    xlabel('Time (ms)')\n",
        "    ylabel('c')\n",
        "    legend();\n",
        " #   plt.savefig(str(i)+'C(t).png')\n",
        "    show()\n",
        "    \n",
        "    plot(I2.t/ms, I2.I_syn[0], label='I_syn')\n",
        "    plot(I1.t/ms, I1.I[0], label='I1')\n",
        "    plot(IG.t/ms, IG.I_glion[0], label='Iglion')\n",
        "    plot(IG.t/ms, IG.I_glion[0]+I2.I_syn[0], label='Isyn + Iglion')\n",
        "    xlabel('Time (ms)')\n",
        "    ylabel('Courants (A)')\n",
        "    legend(); \n",
        " #   plt.savefig(str(i)+'I(t).png')\n",
        "    show()\n",
        "    \n",
        "    #SPIKES\n",
        "    peaks_V1, _ = find_peaks(V1.v1[0])\n",
        "    peaks_V2, _ = find_peaks(V2.v2[0])\n",
        "    peaks_V3, _ = find_peaks(V3.v3[0])\n",
        " #   peaks_c, _ = find_peaks(Cal.c[0])\n",
        " #   ITC = [Cal.t[peaks_c[i]] for i in range(len(peaks_c))]\n",
        "    ITV1 = [V1.t[peaks_V1[i]-peaks_V1[i-1]] for i in range(1,len(peaks_V1))]\n",
        "    ITV2 = [V2.t[peaks_V2[i]-peaks_V2[i-1]] for i in range(1,len(peaks_V2))]\n",
        "    ITV3 = [V3.t[peaks_V3[i]-peaks_V3[i-1]] for i in range(1,len(peaks_V3))]\n",
        "    print('V1 : ', len(peaks_V1),'V2 : ', len(peaks_V2),'V3 : ', len(peaks_V3))\n",
        "    return ITV1,len(peaks_V1),ITV2,len(peaks_V2),ITV3,len(peaks_V3)\n",
        "    \n",
        "\n",
        "    \n",
        "    \n"
      ]
    },
    {
      "cell_type": "code",
      "execution_count": 64,
      "metadata": {
        "scrolled": false,
        "id": "lOjVSC9HBfoX",
        "outputId": "f2a4c4eb-07b4-4c90-e544-35633bcd78ae",
        "colab": {
          "base_uri": "https://localhost:8080/",
          "height": 1000
        }
      },
      "outputs": [
        {
          "output_type": "display_data",
          "data": {
            "text/plain": [
              "<Figure size 432x288 with 1 Axes>"
            ],
            "image/png": "[encoded data removed]"
          },
          "metadata": {
            "needs_background": "light"
          }
        },
        {
          "output_type": "display_data",
          "data": {
            "text/plain": [
              "<Figure size 432x288 with 1 Axes>"
            ],
            "image/png": "[encoded data removed]"
          },
          "metadata": {
            "needs_background": "light"
          }
        },
        {
          "output_type": "display_data",
          "data": {
            "text/plain": [
              "<Figure size 432x288 with 1 Axes>"
            ],
            "image/png": "[encoded data removed]"
          },
          "metadata": {
            "needs_background": "light"
          }
        },
        {
          "output_type": "stream",
          "name": "stdout",
          "text": [
            "V1 :  28 V2 :  31 V3 :  31\n"
          ]
        },
        {
          "output_type": "display_data",
          "data": {
            "text/plain": [
              "<Figure size 432x288 with 1 Axes>"
            ],
            "image/png": "[encoded data removed]"
          },
          "metadata": {
            "needs_background": "light"
          }
        }
      ],
      "source": [
        "i_const = 160*pA\n",
        "ITV1,lenV11,ITV2,lenV21,ITV3,lenV31 = synapse_plot(0.31,0.001,0.1,0.2,0.5)\n",
        "\n",
        "plot((lenV11-1)*[1],ITV1/ms, label = 'A/Abis', marker=\".\")\n",
        "plot((lenV21-1)*[2],ITV2/ms, label = 'B', marker=\".\")\n",
        "plot((lenV31-1)*[3],ITV3/ms, label = 'C', marker=\".\")\n",
        "\n",
        "ylabel('time (ms)')\n",
        "xlabel('Spikes')\n",
        "legend(); \n",
        "#plt.savefig('M1_Spikes.png')\n",
        "show()\n"
      ]
    }
  ],
  "metadata": {
    "kernelspec": {
      "display_name": "Python 3",
      "language": "python",
      "name": "python3"
    },
    "language_info": {
      "codemirror_mode": {
        "name": "ipython",
        "version": 3
      },
      "file_extension": ".py",
      "mimetype": "text/x-python",
      "name": "python",
      "nbconvert_exporter": "python",
      "pygments_lexer": "ipython3",
      "version": "3.7.2"
    },
    "colab": {
      "provenance": []
    }
  },
  "nbformat": 4,
  "nbformat_minor": 0
}